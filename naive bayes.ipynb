{
 "cells": [
  {
   "cell_type": "code",
   "execution_count": 4,
   "id": "a26646ae-9ac6-451e-bbe2-c5b93046b6ae",
   "metadata": {},
   "outputs": [
    {
     "name": "stdout",
     "output_type": "stream",
     "text": [
      "the email is classified as spam\n"
     ]
    }
   ],
   "source": [
    "from sklearn.feature_extraction.text import CountVectorizer\n",
    "from sklearn.model_selection import train_test_split\n",
    "from sklearn.naive_bayes import MultinomialNB\n",
    "from sklearn.metrics import accuracy_score, classification_report\n",
    "\n",
    "#sample email data \n",
    "\n",
    "emails = [\"Hello this is a legitimate email!\",\n",
    "          \"Congratulations! You've won a million dollars!\",\n",
    "          \"Meet singles in your area now!\",\n",
    "          \"Important meeting tomorrow at 10 AM.\"\n",
    "         ]\n",
    "\n",
    "labels = [0, 1, 1, 0] # 0 not spam, whereas 1 is spam\n",
    "\n",
    "#convert text to data to feature vectors using bag-of-words\n",
    "vectorizer = CountVectorizer()\n",
    "X = vectorizer.fit_transform(emails)\n",
    "\n",
    "#split the data into training and test sets\n",
    "X_train, X_test, y_train, y_test = train_test_split(X, labels, test_size=0.25, random_state= 42)\n",
    "\n",
    "#Create a naive bayes classifier \n",
    "nb_classifier = MultinomialNB()\n",
    "nb_classifier.fit(X_train, y_train)\n",
    "\n",
    "#test with a new email \n",
    "new_email = [\"Get free Iphone now! Limited time offer!\"]\n",
    "new_email_vectorized = vectorizer.transform(new_email)\n",
    "\n",
    "#make predictions on the  new email\n",
    "prediction = nb_classifier.predict(new_email_vectorized)\n",
    "\n",
    "#Interpret the predictions as a string \n",
    "if prediction[0] == 1:\n",
    "    result = \"spam\"\n",
    "else:\n",
    "    result = \"Not spam\"\n",
    "\n",
    "print(f\"the email is classified as {result}\")\n",
    "\n"
   ]
  },
  {
   "cell_type": "code",
   "execution_count": null,
   "id": "2f9c85dc-c979-4dbd-ba47-cdf5545992bf",
   "metadata": {},
   "outputs": [],
   "source": []
  }
 ],
 "metadata": {
  "kernelspec": {
   "display_name": "Python 3 (ipykernel)",
   "language": "python",
   "name": "python3"
  },
  "language_info": {
   "codemirror_mode": {
    "name": "ipython",
    "version": 3
   },
   "file_extension": ".py",
   "mimetype": "text/x-python",
   "name": "python",
   "nbconvert_exporter": "python",
   "pygments_lexer": "ipython3",
   "version": "3.11.7"
  }
 },
 "nbformat": 4,
 "nbformat_minor": 5
}
